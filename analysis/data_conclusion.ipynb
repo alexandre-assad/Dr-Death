{
 "cells": [
  {
   "cell_type": "markdown",
   "metadata": {},
   "source": [
    "# Ma conclusion\n",
    "\n",
    "Après les résultats de cette analyse, voici ma conclusion.  \n",
    "Premièrement sa culpabilité n'est plus à juger. Bien qu'il ait avoué que 7% des meurtres qu'on lui attribue, la comparaison avec les patients des autres médecins quant à l'heure de la mort est frappante.  \n",
    "Shipman s'attaqué principalement aux personnes âgées, des femmes entre 65 et 90 ans, mais pouvait des fois faire exceptions pour d'autres victimes, comme pour 20% d'hommes, et des victimes entre 40 et 60 ans.  Ces victimes mourrait en presque totalité chez eux.  \n",
    "Shipman a eu une tendance au meurtre en augmentation de 1975 à 2000. Cependant, il a toujours conservé les mêmes types de victimes pendant ses 25 ans, et n'avait pas de schéma précis temporel.  \n",
    "***"
   ]
  }
 ],
 "metadata": {
  "language_info": {
   "name": "python"
  },
  "orig_nbformat": 4
 },
 "nbformat": 4,
 "nbformat_minor": 2
}
