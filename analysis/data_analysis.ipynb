{
 "cells": [
  {
   "cell_type": "markdown",
   "metadata": {},
   "source": [
    "# Mes analyses sur Power Bi\n",
    "\n",
    "\n",
    "![data-source](../screenshot/victims_analysis.png)  \n",
    "Premièrement, j'ai réalisé quelques graphiques sur les victimes.  \n",
    "Le premier graphique en bar permet de comprendre la tranche d'âge des victimes de Shipman. En lien avec le graphique en secteur à sa droite, on a de très bonnes informations sur la répartition des genres des victimes.  \n",
    "Le troisième et le quatrièmes graphique, respectivement les mêmes (le quatrième n'est pas très utile, c'était surtoût pour m'entrainer), donne un ordre d'idée sur le lieux de mort des victimes.  \n",
    "Avec toutes ces informations, nous pouvons tirer des conclusions sur les victimes du docteur.  \n",
    "***\n",
    "\n",
    "![data-source](../screenshot/murders_analysis_1.png) \n",
    "![data-source](../screenshot/murders_analysis_2.png)  \n",
    "Par la suite, j'ai réalisé des graphiques plus orientés sur les meurtres en eux même.  \n",
    "Le premier graphique en courbere retrace la chronologie des évènements, avec le nombre de meurtres par années.  \n",
    "Le deuxième graphique en courbe, toujours par années, indique cette fois la moyenne des victimes tuées. Cela pourraît mettre en évidence une évolution de son choix de victimes ou même des tendances éphémères.  \n",
    "Le troisième histogramme voulait mettre en évidence si Shipman avait des tendances par années.  \n",
    "Le quatrième graphique en anneau montre la proportion de meurtres avoués par rapport au véritable nombre de meurtres.  \n",
    "Enfin, le cinquième graphiques est une comparaison entre l'heure de la mort des patient de Shipman et l'heure de la mort des patients d'autre médecins.  \n",
    "Avec toutes ces informations, nous pouvons tirer des informations sur l'implications et le mode opératoire de Shipman.  \n",
    "\n",
    "***"
   ]
  }
 ],
 "metadata": {
  "language_info": {
   "name": "python"
  },
  "orig_nbformat": 4
 },
 "nbformat": 4,
 "nbformat_minor": 2
}
