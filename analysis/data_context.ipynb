{
 "cells": [
  {
   "cell_type": "markdown",
   "metadata": {},
   "source": [
    "# Informations sur les données \n",
    "\n",
    "Pour en savoir plus sur cette enquête, nous avons plusieurs données sur les victimes et sur les meurtres. Après avoir modifier mon dataset, voici ce que j'ai :  \n",
    "- Des informations sur les victimes : Le genre, le nom,l'âge, la tranche d'âge, le lieux de la morts, la date de la morts.\n",
    "- Des informations sur le meurtre : L'année de la mort, l'heure de la mort, le nombre de meurtres et le nombre de meurtre avoués.\n",
    "- Des informations de comparaison : L'heure de la mort de patient d'autres médecins\n",
    "Nous avons donc 215 victimes  \n",
    "\n",
    "# Mes choix\n",
    "\n",
    "Parmi ces informations, j'ai choisi de ne pas utiliser une colonne Genre en boolean, j'ai opté pour celle en string. Je n'ai pas utilisé FractionalYearOfDeath, qui apporte une plus grande précision que YearOfDeath sur la durée mais que j'ai estimé pas si importante.  \n",
    "Je n'ai pas utilisé les tranche d'âge, n'appréciant pas les histogrammes en découlant, mais aussi je le trouvais signicativement semblable à celui sur les âge en eux même.  \n",
    "Je n'ai pas utilisé le nom des victimes, n'étant pas utiles dans des graphiques. (J'aurais pu m'en servir pour mettre en évidence une personne précise, comme la plus âgée, la dernière,etc...)  \n",
    "\n"
   ]
  }
 ],
 "metadata": {
  "language_info": {
   "name": "python"
  },
  "orig_nbformat": 4
 },
 "nbformat": 4,
 "nbformat_minor": 2
}
