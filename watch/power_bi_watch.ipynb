{
 "cells": [
  {
   "cell_type": "markdown",
   "metadata": {},
   "source": [
    "# Veille sur Power BI \n",
    "\n",
    "***\n",
    "\n",
    "### Premièrement, qu'est-ce que c'est un Dashboard ?\n",
    "\n",
    "Un Dashboard, qu'on pourraît traduire par Tableau de bord, est comme son nom l'indique un espace de gestion, d'évaluation et d'organisation. Comme un capitaine aurait besoin de cartes, boussoles et même une longue vue sur son tableau de bords ; l'entreprise, elle, y expose des graphiques, des évaluations numériques, des indicateurs de performances et même des problématiques actuelles.  \n",
    "Le Dashboard est donc un outil commun qui permet une synthèse des objectifs, réalisations et problématiques de l'entreprise.\n",
    "\n",
    "### Et qu'est ce que Power BI ?\n",
    "\n",
    "Power BI est un outil d'analyse conçu par Microsoft en 2014. Il permet ainsi la création de Dashboard dans un espace interactif et personnalisable.\n",
    "\n",
    "***\n",
    "\n",
    "### Quels sont les avantages de Power BI ?\n",
    "\n",
    "Power BI possède de nombreux avantages. Ayant pour objectif l'aide à la décision des entreprises, c'est un excellent créateur de graphiques afin de rendre les dashboards plus accessible et simplifié. Faisant parti de l'ensemble Microsoft, il est aussi accessible par de nombreuses entreprises ; et permet aussi d'intégrer de nombreuses applications, comme Excel ou Microsoft Cloud, au Dashboard. Il est accessible sur énormément d'appareils. Power bi s'est donc axé sur la simplicité et sur l'accessibilité de son produit.  \n",
    "D'un point de vu outil, il possède quelques fonctionnalités intéressantes, comme sa BI, mais surtout des graphiques et tableaux intéressants à intégrer.\n",
    "\n",
    "### Et quels sont les inconvéniants de Power BI ? \n",
    "\n",
    "Malgré sa simplicité, Power BI peut s'avérer comme beaucoup de Dashboard difficile à utiliser pour les novices en modélisation de données. Faisant parti de l'ensemble Microsoft, son prix peut aussi être un frein, notamment pour les particuliers et les non professionnels.\n",
    "\n",
    "***\n",
    "\n",
    "### Quelles sont ses principales fonctionnalités ?\n",
    "\n",
    "Power BI possède plusieurs fonctionnalités principales. Il possède tout un aspect *Business Intelligence*, un espace ou toute la donnée de l'entreprise doit se regrouper, peu importe le département d'origine. Il est donc utile pour la collecte des données, pour les intégrer dans certains départements puis les restituer.  \n",
    "Power BI possède aussi plusieurs outils de visualisation, tel que des graphiques ou des tableaux.  \n",
    "![data-visualisation](../screenshot/data_visualisation_power_bi.png)  \n",
    "Power Bi peut exploiter de la data depuis de nombreuses sources.  \n",
    "![data-source](../screenshot/data_source_power_bi.png)  \n",
    "Enfin, Power BI possède un outil de nettoyage de données intégré.\n",
    "***"
   ]
  }
 ],
 "metadata": {
  "language_info": {
   "name": "python"
  },
  "orig_nbformat": 4
 },
 "nbformat": 4,
 "nbformat_minor": 2
}
